{
 "cells": [
  {
   "cell_type": "code",
   "execution_count": 4,
   "metadata": {},
   "outputs": [],
   "source": [
    "# /anaconda3/lib/python3.6/site-packages/openfermion/data/\n",
    "\n",
    "import os\n",
    "\n",
    "from openfermion.hamiltonians import MolecularData\n",
    "\n",
    "from openfermionpsi4 import run_psi4\n",
    "\n",
    "if __name__ == '__main__':\n",
    "\n",
    "    # Set chemical parameters.\n",
    "    element_names = ['H', 'Be']\n",
    "    basis = 'sto-3g'\n",
    "    charge = 0\n",
    "    multiplicity = 1\n",
    "\n",
    "    # Single point at equilibrium for testing\n",
    "    spacings = [1.7698]\n",
    "\n",
    "    # Add points for a full dissociation curve from 0.1 to 3.0 angstroms\n",
    "    spacings += [0.1 * r for r in range(1, 30)]\n",
    "\n",
    "    # Set run options\n",
    "    run_scf = 1\n",
    "    run_mp2 = 1\n",
    "    run_cisd = 1\n",
    "    run_ccsd = 1\n",
    "    run_fci = 1\n",
    "    verbose = 1\n",
    "    tolerate_error = 1\n",
    "\n",
    "    # Run Diatomic Curve\n",
    "    for spacing in spacings:\n",
    "        description = \"{0:0.1f}\".format(spacing)\n",
    "        geometry = [['H', [0, 0, -spacing]],\n",
    "                    ['Be', [0, 0, 0]],\n",
    "                       ['H', [0, 0, spacing]]]\n",
    "        molecule = MolecularData(geometry,\n",
    "                                 basis,\n",
    "                                 multiplicity,\n",
    "                                 charge,\n",
    "                                 description)\n",
    "\n",
    "        molecule = run_psi4(molecule,\n",
    "                            run_scf=run_scf,\n",
    "                            run_mp2=run_mp2,\n",
    "                            run_cisd=run_cisd,\n",
    "                            run_ccsd=run_ccsd,\n",
    "                            run_fci=run_fci,\n",
    "                            verbose=verbose,\n",
    "                            tolerate_error=tolerate_error)\n",
    "        molecule.save()\n",
    " "
   ]
  },
  {
   "cell_type": "code",
   "execution_count": null,
   "metadata": {},
   "outputs": [],
   "source": []
  },
  {
   "cell_type": "code",
   "execution_count": null,
   "metadata": {},
   "outputs": [],
   "source": []
  }
 ],
 "metadata": {
  "kernelspec": {
   "display_name": "Python 3",
   "language": "python",
   "name": "python3"
  },
  "language_info": {
   "codemirror_mode": {
    "name": "ipython",
    "version": 3
   },
   "file_extension": ".py",
   "mimetype": "text/x-python",
   "name": "python",
   "nbconvert_exporter": "python",
   "pygments_lexer": "ipython3",
   "version": "3.6.8"
  }
 },
 "nbformat": 4,
 "nbformat_minor": 2
}
