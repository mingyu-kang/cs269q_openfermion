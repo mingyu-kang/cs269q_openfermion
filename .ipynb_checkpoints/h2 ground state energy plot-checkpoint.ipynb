{
 "cells": [
  {
   "cell_type": "code",
   "execution_count": 1,
   "metadata": {},
   "outputs": [],
   "source": [
    "from openfermion.hamiltonians import MolecularData, load_molecular_hamiltonian\n",
    "from openfermion.ops import FermionOperator\n",
    "from openfermion.transforms import bravyi_kitaev\n",
    "from openfermion.utils import hermitian_conjugated\n",
    "from openfermion.ops import QubitOperator\n",
    "from forestopenfermion import pyquilpauli_to_qubitop, qubitop_to_pyquilpauli\n",
    "from pyquil.paulis import PauliSum\n",
    "from pyquil.api import WavefunctionSimulator\n",
    "from scipy.optimize import minimize\n",
    "from pyquil import Program\n",
    "from pyquil.gates import *\n",
    "\n",
    "import numpy as np\n",
    "import functools"
   ]
  },
  {
   "cell_type": "code",
   "execution_count": 2,
   "metadata": {},
   "outputs": [],
   "source": [
    "sim = WavefunctionSimulator(random_seed=1337)"
   ]
  },
  {
   "cell_type": "code",
   "execution_count": 3,
   "metadata": {},
   "outputs": [],
   "source": [
    "def solve_vqe(hamiltonian: PauliSum, numQubit, numLayer) -> float:\n",
    "    # Construct a variational quantum eigensolver solution to find the lowest\n",
    "    # eigenvalue of the given hamiltonian\n",
    "    theta_init = np.random.rand(2*numQubit*numLayer) * 2 * np.pi\n",
    "\n",
    "    def ansatz_energy(theta_vec):\n",
    "        p = None\n",
    "        p = Program()\n",
    "        for j in range(numLayer):\n",
    "            for i in range(numQubit):\n",
    "                p += RX(theta_vec[2*numQubit * j + 2 * i], i)\n",
    "                p += RZ(theta_vec[2*numQubit * j + 2 * i + 1], i)\n",
    "            for i in range(numQubit - 1):\n",
    "                p += CNOT(i, i + 1)\n",
    "\n",
    "        energy = sim.expectation(p, hamiltonian).real\n",
    "        return energy\n",
    "\n",
    "    theta_answer = minimize(ansatz_energy, theta_init, method='L-BFGS-B').x\n",
    "    return ansatz_energy(theta_answer)"
   ]
  },
  {
   "cell_type": "code",
   "execution_count": 4,
   "metadata": {},
   "outputs": [],
   "source": [
    "def get_ground_energy(interaction_hamil, numQubit, numLayer):\n",
    "    fermionop_hamil = FermionOperator()\n",
    "    for key in interaction_hamil:\n",
    "        value = interaction_hamil[key]\n",
    "        fermionop_hamil += FermionOperator(term=key, coefficient=value)\n",
    "        \n",
    "    qubitop_hamil = bravyi_kitaev(fermionop_hamil)\n",
    "    pauliop_hamil = qubitop_to_pyquilpauli(qubitop_hamil)\n",
    "    \n",
    "    sim = WavefunctionSimulator(random_seed=1337)\n",
    "    return solve_vqe(pauliop_hamil, numQubit, numLayer)\n"
   ]
  },
  {
   "cell_type": "code",
   "execution_count": 5,
   "metadata": {},
   "outputs": [
    {
     "name": "stdout",
     "output_type": "stream",
     "text": [
      "bond length:  0.3  ground state energy:  -0.6018037097168295\n",
      "bond length:  0.4  ground state energy:  -0.9141497072217346\n",
      "bond length:  0.5  ground state energy:  -1.0551592106696503\n",
      "bond length:  0.6  ground state energy:  -1.1162860071821157\n",
      "bond length:  0.7  ground state energy:  -1.1361894521867446\n",
      "bond length:  0.8  ground state energy:  -1.1341476607876486\n",
      "bond length:  0.9  ground state energy:  -1.120560276803429\n",
      "bond length:  1.0  ground state energy:  -1.1011503286532849\n",
      "bond length:  1.1  ground state energy:  -1.0791929366898225\n",
      "bond length:  1.2  ground state energy:  -1.0567407443742167\n",
      "bond length:  1.3  ground state energy:  -1.0351862637917943\n",
      "bond length:  1.4  ground state energy:  -1.0154681865642161\n",
      "bond length:  1.5  ground state energy:  -0.99814935064735\n",
      "bond length:  1.6  ground state energy:  -0.9834727242443272\n",
      "bond length:  1.7  ground state energy:  -0.9714266820966861\n",
      "bond length:  1.8  ground state energy:  -0.9618169482851484\n",
      "bond length:  1.9  ground state energy:  -0.9543388455452677\n",
      "bond length:  2.0  ground state energy:  -0.9486411036307889\n",
      "bond length:  2.1  ground state energy:  -0.9443746699342204\n",
      "bond length:  2.2  ground state energy:  -0.9412240193362488\n",
      "bond length:  2.3  ground state energy:  -0.9389216319415283\n",
      "bond length:  2.4  ground state energy:  -0.9372547376555244\n",
      "bond length:  2.5  ground state energy:  -0.9360548984047844\n"
     ]
    }
   ],
   "source": [
    "basis = 'sto-3g'\n",
    "multiplicity = 1  # 2S+1\n",
    "charge = 0\n",
    "\n",
    "import matplotlib.pyplot as plt\n",
    "%matplotlib inline\n",
    "\n",
    "bond_lengths = np.linspace(0.3, 2.5, 23)\n",
    "vqe_ground_energies = []\n",
    "\n",
    "for bond_length in bond_lengths:\n",
    "    geometry = [('H', (0., 0., 0.)), ('H', (0., 0., bond_length))]\n",
    "    description = str(round(bond_length, 2))\n",
    "    h2_interaction_hamil = load_molecular_hamiltonian(geometry,\n",
    "        basis,\n",
    "        multiplicity,\n",
    "        description,\n",
    "        n_active_electrons=None,\n",
    "        n_active_orbitals=None)\n",
    "    \n",
    "    ge = get_ground_energy(h2_interaction_hamil, 4, 5)\n",
    "    vqe_ground_energies.append(ge)\n",
    "    print('bond length: ', round(bond_length, 2), ' ground state energy: ', ge)\n"
   ]
  },
  {
   "cell_type": "code",
   "execution_count": 7,
   "metadata": {},
   "outputs": [
    {
     "data": {
      "image/png": "[encoded data removed]",
      "text/plain": [
       "<Figure size 432x288 with 1 Axes>"
      ]
     },
     "metadata": {},
     "output_type": "display_data"
    }
   ],
   "source": [
    "# Set molecule parameters.\n",
    "basis = 'sto-3g'\n",
    "multiplicity = 1\n",
    "bond_length_interval = 0.1\n",
    "n_points = 25\n",
    "\n",
    "# Generate molecule at different bond lengths.\n",
    "hf_energies = []\n",
    "fci_energies = []\n",
    "bond_lengths = []\n",
    "for point in range(3, n_points + 1):\n",
    "    bond_length = bond_length_interval * point\n",
    "    bond_lengths += [bond_length]\n",
    "    description = str(round(bond_length,2))\n",
    "#    print(description)\n",
    "    geometry = [('H', (0., 0., 0.)), ('H', (0., 0., bond_length))]\n",
    "    molecule = MolecularData(\n",
    "        geometry, basis, multiplicity, description=description)\n",
    "    \n",
    "    # Load data.\n",
    "    molecule.load()\n",
    "\n",
    "    # Print out some results of calculation.\n",
    "#    print('\\nAt bond length of {} angstrom, molecular hydrogen has:'.format(\n",
    "#        bond_length))\n",
    "#    print('Hartree-Fock energy of {} Hartree.'.format(molecule.hf_energy))\n",
    "#    print('MP2 energy of {} Hartree.'.format(molecule.mp2_energy))\n",
    "#    print('FCI energy of {} Hartree.'.format(molecule.fci_energy))\n",
    "#    print('Nuclear repulsion energy between protons is {} Hartree.'.format(\n",
    "#        molecule.nuclear_repulsion))\n",
    "#    for orbital in range(molecule.n_orbitals):\n",
    "#        print('Spatial orbital {} has energy of {} Hartree.'.format(\n",
    "#            orbital, molecule.orbital_energies[orbital]))\n",
    "    hf_energies += [molecule.hf_energy]\n",
    "    fci_energies += [molecule.fci_energy]\n",
    "\n",
    "plt.figure(0)\n",
    "plt.plot(bond_lengths, fci_energies, 'x-')\n",
    "#plt.plot(bond_lengths, hf_energies, 'o-')\n",
    "plt.plot(bond_lengths, vqe_ground_energies, 'x-')\n",
    "plt.ylabel('Energy in Hartree')\n",
    "plt.xlabel('Bond length in angstrom')\n",
    "plt.show()"
   ]
  }
 ],
 "metadata": {
  "kernelspec": {
   "display_name": "Python 3",
   "language": "python",
   "name": "python3"
  },
  "language_info": {
   "codemirror_mode": {
    "name": "ipython",
    "version": 3
   },
   "file_extension": ".py",
   "mimetype": "text/x-python",
   "name": "python",
   "nbconvert_exporter": "python",
   "pygments_lexer": "ipython3",
   "version": "3.6.5"
  }
 },
 "nbformat": 4,
 "nbformat_minor": 2
}
