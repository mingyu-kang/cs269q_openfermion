{
 "cells": [
  {
   "cell_type": "code",
   "execution_count": 38,
   "metadata": {},
   "outputs": [],
   "source": [
    "from openfermion.hamiltonians import MolecularData, load_molecular_hamiltonian\n",
    "from openfermion.ops import FermionOperator\n",
    "from openfermion.transforms import bravyi_kitaev\n",
    "from openfermion.utils import hermitian_conjugated\n",
    "from openfermion.ops import QubitOperator\n",
    "from forestopenfermion import pyquilpauli_to_qubitop, qubitop_to_pyquilpauli\n",
    "from pyquil.paulis import PauliSum\n",
    "from pyquil.api import WavefunctionSimulator\n",
    "from scipy.optimize import minimize\n",
    "from pyquil import Program\n",
    "from pyquil.gates import *\n",
    "\n",
    "import numpy as np\n",
    "import functools"
   ]
  },
  {
   "cell_type": "code",
   "execution_count": 39,
   "metadata": {},
   "outputs": [],
   "source": [
    "sim = WavefunctionSimulator(random_seed=1337)"
   ]
  },
  {
   "cell_type": "code",
   "execution_count": 40,
   "metadata": {},
   "outputs": [],
   "source": [
    "def solve_vqe(hamiltonian: PauliSum, numQubit, numLayer) -> float:\n",
    "    # Construct a variational quantum eigensolver solution to find the lowest\n",
    "    # eigenvalue of the given hamiltonian\n",
    "    theta_init = np.random.rand(2*numQubit*numLayer) * 2 * np.pi\n",
    "\n",
    "    def ansatz_energy(theta_vec):\n",
    "        p = None\n",
    "        p = Program()\n",
    "        for j in range(numLayer):\n",
    "            for i in range(numQubit):\n",
    "                p += RX(theta_vec[2*numQubit * j + 2 * i], i)\n",
    "                p += RZ(theta_vec[2*numQubit * j + 2 * i + 1], i)\n",
    "            for i in range(numQubit - 1):\n",
    "                p += CNOT(i, i + 1)\n",
    "\n",
    "        energy = sim.expectation(p, hamiltonian).real\n",
    "        return energy\n",
    "\n",
    "    theta_answer = minimize(ansatz_energy, theta_init).x\n",
    "    return ansatz_energy(theta_answer)"
   ]
  },
  {
   "cell_type": "code",
   "execution_count": 41,
   "metadata": {},
   "outputs": [],
   "source": [
    "def get_ground_energy(interaction_hamil, numQubit, numLayer):\n",
    "    fermionop_hamil = FermionOperator()\n",
    "    for key in interaction_hamil:\n",
    "        value = interaction_hamil[key]\n",
    "        fermionop_hamil += FermionOperator(term=key, coefficient=value)\n",
    "        \n",
    "    qubitop_hamil = bravyi_kitaev(fermionop_hamil)\n",
    "    pauliop_hamil = qubitop_to_pyquilpauli(qubitop_hamil)\n",
    "    \n",
    "    sim = WavefunctionSimulator(random_seed=1337)\n",
    "    solve_vqe(pauliop_hamil, numQubit, numLayer)\n"
   ]
  },
  {
   "cell_type": "code",
   "execution_count": null,
   "metadata": {},
   "outputs": [],
   "source": [
    "basis = 'sto-3g'\n",
    "multiplicity = 1  # 2S+1\n",
    "charge = 0\n",
    "\n",
    "import matplotlib.pyplot as plt\n",
    "%matplotlib inline\n",
    "\n",
    "bond_lengths = [.7414]\n",
    "ground_energies = []\n",
    "\n",
    "for bond_length in bond_lengths:\n",
    "    geometry = [('H', (0., 0., 0.)), ('H', (0., 0., bond_length))]\n",
    "    description = str(bond_length)\n",
    "    h2_interaction_hamil = load_molecular_hamiltonian(geometry,\n",
    "        basis,\n",
    "        multiplicity,\n",
    "        description,\n",
    "        n_active_electrons=None,\n",
    "        n_active_orbitals=None)\n",
    "    \n",
    "    ge = get_ground_energy(h2_interaction_hamil, 4, 4)\n",
    "    ground_energies.append(ge)\n",
    "    print('bond length: ', bond_length, ' ground state energy: ', ge)\n",
    "\n",
    "\n",
    "plt.figure(0)\n",
    "plt.plot(bond_length_arr, ground_energy_arr)\n",
    "plt.show()"
   ]
  },
  {
   "cell_type": "code",
   "execution_count": null,
   "metadata": {},
   "outputs": [],
   "source": []
  }
 ],
 "metadata": {
  "kernelspec": {
   "display_name": "Python 3",
   "language": "python",
   "name": "python3"
  },
  "language_info": {
   "codemirror_mode": {
    "name": "ipython",
    "version": 3
   },
   "file_extension": ".py",
   "mimetype": "text/x-python",
   "name": "python",
   "nbconvert_exporter": "python",
   "pygments_lexer": "ipython3",
   "version": "3.6.5"
  }
 },
 "nbformat": 4,
 "nbformat_minor": 2
}
