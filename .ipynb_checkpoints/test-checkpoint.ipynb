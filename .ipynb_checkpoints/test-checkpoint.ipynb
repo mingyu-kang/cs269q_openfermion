{
 "cells": [
  {
   "cell_type": "code",
   "execution_count": 32,
   "metadata": {},
   "outputs": [],
   "source": [
    "from openfermion.hamiltonians import MolecularData, load_molecular_hamiltonian\n",
    "from openfermion.ops import FermionOperator\n",
    "from openfermion.transforms import bravyi_kitaev\n",
    "from openfermion.utils import hermitian_conjugated\n",
    "from openfermion.ops import QubitOperator\n",
    "from forestopenfermion import pyquilpauli_to_qubitop, qubitop_to_pyquilpauli\n",
    "from pyquil.paulis import *\n",
    "from pyquil.api import WavefunctionSimulator\n",
    "from scipy.optimize import minimize\n",
    "from pyquil import Program\n",
    "from pyquil.gates import *\n",
    "\n",
    "import numpy as np\n",
    "import functools"
   ]
  },
  {
   "cell_type": "code",
   "execution_count": 48,
   "metadata": {},
   "outputs": [],
   "source": [
    "# Set parameters to make a simple molecule.\n",
    "diatomic_bond_length = 0.7\n",
    "geometry = [('H', (0., 0., -diatomic_bond_length)), ('Be', (0., 0., 0.)), ('H', (0., 0., diatomic_bond_length))]\n",
    "basis = 'sto-3g'\n",
    "multiplicity = 1  # 2S+1\n",
    "charge = 0\n",
    "description = str(diatomic_bond_length)\n",
    "\n",
    "# Make molecule and print out a few interesting facts about it.\n",
    "#molecule = MolecularData(geometry, basis, multiplicity, charge, description)\n",
    "\n",
    "h2_interaction_hamil = load_molecular_hamiltonian(geometry,\n",
    "        basis,\n",
    "        multiplicity,\n",
    "        description,\n",
    "        n_active_electrons=None,\n",
    "        n_active_orbitals=None)"
   ]
  },
  {
   "cell_type": "code",
   "execution_count": 49,
   "metadata": {},
   "outputs": [],
   "source": [
    "sim = WavefunctionSimulator(random_seed=1337)"
   ]
  },
  {
   "cell_type": "code",
   "execution_count": 50,
   "metadata": {},
   "outputs": [
    {
     "name": "stdout",
     "output_type": "stream",
     "text": [
      "() 0.7559674408428572\n",
      "((0, 1), (0, 0)) -1.277853004238663\n",
      "((1, 1), (1, 0)) -1.277853004238663\n",
      "((2, 1), (2, 0)) -0.4482996982903886\n",
      "((3, 1), (3, 0)) -0.4482996982903886\n",
      "((0, 1), (0, 1), (0, 0), (0, 0)) 0.34119476628207757\n",
      "((0, 1), (0, 1), (2, 0), (2, 0)) 0.08950028811476402\n",
      "((0, 1), (1, 1), (1, 0), (0, 0)) 0.34119476628207757\n",
      "((0, 1), (1, 1), (3, 0), (2, 0)) 0.08950028811476402\n",
      "((0, 1), (2, 1), (0, 0), (2, 0)) 0.08950028811476382\n",
      "((0, 1), (2, 1), (2, 0), (0, 0)) 0.33536638888135345\n",
      "((0, 1), (3, 1), (1, 0), (2, 0)) 0.08950028811476382\n",
      "((0, 1), (3, 1), (3, 0), (0, 0)) 0.33536638888135345\n",
      "((1, 1), (0, 1), (0, 0), (1, 0)) 0.34119476628207757\n",
      "((1, 1), (0, 1), (2, 0), (3, 0)) 0.08950028811476402\n",
      "((1, 1), (1, 1), (1, 0), (1, 0)) 0.34119476628207757\n",
      "((1, 1), (1, 1), (3, 0), (3, 0)) 0.08950028811476402\n",
      "((1, 1), (2, 1), (0, 0), (3, 0)) 0.08950028811476382\n",
      "((1, 1), (2, 1), (2, 0), (1, 0)) 0.33536638888135345\n",
      "((1, 1), (3, 1), (1, 0), (3, 0)) 0.08950028811476382\n",
      "((1, 1), (3, 1), (3, 0), (1, 0)) 0.33536638888135345\n",
      "((2, 1), (0, 1), (0, 0), (2, 0)) 0.3353663888813534\n",
      "((2, 1), (0, 1), (2, 0), (0, 0)) 0.08950028811476382\n",
      "((2, 1), (1, 1), (1, 0), (2, 0)) 0.3353663888813534\n",
      "((2, 1), (1, 1), (3, 0), (0, 0)) 0.08950028811476382\n",
      "((2, 1), (2, 1), (0, 0), (0, 0)) 0.0895002881147638\n",
      "((2, 1), (2, 1), (2, 0), (2, 0)) 0.3525528157958291\n",
      "((2, 1), (3, 1), (1, 0), (0, 0)) 0.0895002881147638\n",
      "((2, 1), (3, 1), (3, 0), (2, 0)) 0.3525528157958291\n",
      "((3, 1), (0, 1), (0, 0), (3, 0)) 0.3353663888813534\n",
      "((3, 1), (0, 1), (2, 0), (1, 0)) 0.08950028811476382\n",
      "((3, 1), (1, 1), (1, 0), (3, 0)) 0.3353663888813534\n",
      "((3, 1), (1, 1), (3, 0), (1, 0)) 0.08950028811476382\n",
      "((3, 1), (2, 1), (0, 0), (1, 0)) 0.0895002881147638\n",
      "((3, 1), (2, 1), (2, 0), (3, 0)) 0.3525528157958291\n",
      "((3, 1), (3, 1), (1, 0), (1, 0)) 0.0895002881147638\n",
      "((3, 1), (3, 1), (3, 0), (3, 0)) 0.3525528157958291\n",
      "\n"
     ]
    }
   ],
   "source": [
    "print(h2_interaction_hamil)  # in 'Interaction Operator' format"
   ]
  },
  {
   "cell_type": "code",
   "execution_count": 51,
   "metadata": {},
   "outputs": [],
   "source": [
    "from openfermion.ops import FermionOperator, SymbolicOperator\n",
    "from openfermion.transforms import jordan_wigner, bravyi_kitaev\n",
    "from openfermion.utils import hermitian_conjugated"
   ]
  },
  {
   "cell_type": "code",
   "execution_count": 52,
   "metadata": {},
   "outputs": [
    {
     "name": "stdout",
     "output_type": "stream",
     "text": [
      "0.7559674408428572 [] +\n",
      "-1.277853004238663 [0^ 0] +\n",
      "0.34119476628207757 [0^ 0^ 0 0] +\n",
      "0.08950028811476402 [0^ 0^ 2 2] +\n",
      "0.34119476628207757 [0^ 1^ 1 0] +\n",
      "0.08950028811476402 [0^ 1^ 3 2] +\n",
      "0.08950028811476382 [0^ 2^ 0 2] +\n",
      "0.33536638888135345 [0^ 2^ 2 0] +\n",
      "0.08950028811476382 [0^ 3^ 1 2] +\n",
      "0.33536638888135345 [0^ 3^ 3 0] +\n",
      "0.34119476628207757 [1^ 0^ 0 1] +\n",
      "0.08950028811476402 [1^ 0^ 2 3] +\n",
      "-1.277853004238663 [1^ 1] +\n",
      "0.34119476628207757 [1^ 1^ 1 1] +\n",
      "0.08950028811476402 [1^ 1^ 3 3] +\n",
      "0.08950028811476382 [1^ 2^ 0 3] +\n",
      "0.33536638888135345 [1^ 2^ 2 1] +\n",
      "0.08950028811476382 [1^ 3^ 1 3] +\n",
      "0.33536638888135345 [1^ 3^ 3 1] +\n",
      "0.3353663888813534 [2^ 0^ 0 2] +\n",
      "0.08950028811476382 [2^ 0^ 2 0] +\n",
      "0.3353663888813534 [2^ 1^ 1 2] +\n",
      "0.08950028811476382 [2^ 1^ 3 0] +\n",
      "-0.4482996982903886 [2^ 2] +\n",
      "0.0895002881147638 [2^ 2^ 0 0] +\n",
      "0.3525528157958291 [2^ 2^ 2 2] +\n",
      "0.0895002881147638 [2^ 3^ 1 0] +\n",
      "0.3525528157958291 [2^ 3^ 3 2] +\n",
      "0.3353663888813534 [3^ 0^ 0 3] +\n",
      "0.08950028811476382 [3^ 0^ 2 1] +\n",
      "0.3353663888813534 [3^ 1^ 1 3] +\n",
      "0.08950028811476382 [3^ 1^ 3 1] +\n",
      "0.0895002881147638 [3^ 2^ 0 1] +\n",
      "0.3525528157958291 [3^ 2^ 2 3] +\n",
      "-0.4482996982903886 [3^ 3] +\n",
      "0.0895002881147638 [3^ 3^ 1 1] +\n",
      "0.3525528157958291 [3^ 3^ 3 3]\n"
     ]
    }
   ],
   "source": [
    "h2_fermionop_hamil = FermionOperator()\n",
    "\n",
    "for key in h2_interaction_hamil:\n",
    "    value = h2_interaction_hamil[key]\n",
    "    h2_fermionop_hamil += FermionOperator(term=key, coefficient=value)\n",
    "\n",
    "print(h2_fermionop_hamil)\n"
   ]
  },
  {
   "cell_type": "code",
   "execution_count": 53,
   "metadata": {},
   "outputs": [
    {
     "name": "stdout",
     "output_type": "stream",
     "text": [
      "0.5 [X0] +\n",
      "-0.5j [Y0]\n"
     ]
    }
   ],
   "source": [
    "x = FermionOperator('0^')\n",
    "print(jordan_wigner(x))"
   ]
  },
  {
   "cell_type": "code",
   "execution_count": 54,
   "metadata": {},
   "outputs": [
    {
     "name": "stdout",
     "output_type": "stream",
     "text": [
      "(-0.042078980999298216+0j) [] +\n",
      "(0.044750144057381945+0j) [X0 Z1 X2] +\n",
      "(0.044750144057381945+0j) [X0 Z1 X2 Z3] +\n",
      "(0.044750144057381945+0j) [Y0 Z1 Y2] +\n",
      "(0.044750144057381945+0j) [Y0 Z1 Y2 Z3] +\n",
      "(0.17771287415432124+0j) [Z0] +\n",
      "(0.17771287415432127+0j) [Z0 Z1] +\n",
      "(0.1676831944406767+0j) [Z0 Z1 Z2] +\n",
      "(0.1676831944406767+0j) [Z0 Z1 Z2 Z3] +\n",
      "(0.1229330503832948+0j) [Z0 Z2] +\n",
      "(0.1229330503832948+0j) [Z0 Z2 Z3] +\n",
      "(0.17059738314103878+0j) [Z1] +\n",
      "(-0.24274280357669173+0j) [Z1 Z2 Z3] +\n",
      "(0.17627640789791454+0j) [Z1 Z3] +\n",
      "(-0.24274280357669176+0j) [Z2]\n"
     ]
    }
   ],
   "source": [
    "h2_qubitop_hamil = bravyi_kitaev(h2_fermionop_hamil)\n",
    "print(h2_qubitop_hamil)"
   ]
  },
  {
   "cell_type": "code",
   "execution_count": 55,
   "metadata": {},
   "outputs": [
    {
     "name": "stdout",
     "output_type": "stream",
     "text": [
      "(-0.042078980999298216+0j)*I + (0.17771287415432124+0j)*Z0 + (0.17771287415432127+0j)*Z0*Z1 + (-0.24274280357669176+0j)*Z2 + (-0.24274280357669173+0j)*Z1*Z2*Z3 + (0.17059738314103878+0j)*Z1 + (0.044750144057381945+0j)*Y0*Z1*Y2*Z3 + (0.044750144057381945+0j)*X0*Z1*X2 + (0.044750144057381945+0j)*X0*Z1*X2*Z3 + (0.044750144057381945+0j)*Y0*Z1*Y2 + (0.1229330503832948+0j)*Z0*Z2 + (0.1676831944406767+0j)*Z0*Z1*Z2*Z3 + (0.1676831944406767+0j)*Z0*Z1*Z2 + (0.1229330503832948+0j)*Z0*Z2*Z3 + (0.17627640789791454+0j)*Z1*Z3\n",
      "15\n",
      "36\n"
     ]
    }
   ],
   "source": [
    "from openfermion.ops import QubitOperator\n",
    "from forestopenfermion import pyquilpauli_to_qubitop, qubitop_to_pyquilpauli\n",
    "\n",
    "h2_pauliop_hamil = qubitop_to_pyquilpauli(h2_qubitop_hamil)\n",
    "print(h2_pauliop_hamil)\n",
    "print(len(h2_pauliop_hamil))\n",
    "numGates=0\n",
    "for term in h2_pauliop_hamil:\n",
    "    numGates += len(term.pauli_string())\n",
    "print(numGates)"
   ]
  },
  {
   "cell_type": "code",
   "execution_count": 56,
   "metadata": {},
   "outputs": [
    {
     "name": "stdout",
     "output_type": "stream",
     "text": [
      "(1+0j)*Z0*Z1 + (1+0j)*X2*Y3\n",
      "2\n"
     ]
    }
   ],
   "source": [
    "from pyquil.paulis import *\n",
    "operator = sZ(0)*sZ(1) + sX(2)*sY(3)\n",
    "print(operator)\n",
    "print(len(operator[0].pauli_string()))"
   ]
  },
  {
   "cell_type": "code",
   "execution_count": 57,
   "metadata": {},
   "outputs": [],
   "source": [
    "from pyquil.paulis import PauliSum\n",
    "from pyquil.api import WavefunctionSimulator\n",
    "from scipy.optimize import minimize\n",
    "from pyquil import Program\n",
    "from pyquil.gates import *\n",
    "\n",
    "import numpy as np\n",
    "import functools"
   ]
  },
  {
   "cell_type": "code",
   "execution_count": 58,
   "metadata": {},
   "outputs": [],
   "source": [
    "sim = WavefunctionSimulator(random_seed=1337)\n",
    "numQubit = 12\n",
    "numLayer = 1\n",
    "\n",
    "def solve_vqe(hamiltonian: PauliSum) -> float:\n",
    "    # Construct a variational quantum eigensolver solution to find the lowest\n",
    "    # eigenvalue of the given hamiltonian\n",
    "    theta_init = np.random.rand(2*numQubit*numLayer) * 2 * np.pi\n",
    "\n",
    "    def ansatz_energy(theta_vec):\n",
    "        p = None\n",
    "        p = Program()\n",
    "        for j in range(numLayer):\n",
    "            for i in range(numQubit):\n",
    "                p += RX(theta_vec[2*numQubit * j + 2 * i], i)\n",
    "                p += RZ(theta_vec[2*numQubit * j + 2 * i + 1], i)\n",
    "            for i in range(numQubit - 1):\n",
    "                p += CNOT(i, i + 1)\n",
    "\n",
    "        energy = sim.expectation(p, hamiltonian).real\n",
    "        return energy\n",
    "\n",
    "    option = {}\n",
    "    option['disp']=True\n",
    "    theta_answer = minimize(ansatz_energy, theta_init, options=option).x\n",
    "    return ansatz_energy(theta_answer)"
   ]
  },
  {
   "cell_type": "code",
   "execution_count": 13,
   "metadata": {},
   "outputs": [
    {
     "name": "stdout",
     "output_type": "stream",
     "text": [
      "Optimization terminated successfully.\n",
      "         Current function value: -7.679193\n",
      "         Iterations: 38\n",
      "         Function evaluations: 1196\n",
      "         Gradient evaluations: 46\n"
     ]
    },
    {
     "data": {
      "text/plain": [
       "-7.679192994650173"
      ]
     },
     "execution_count": 13,
     "metadata": {},
     "output_type": "execute_result"
    }
   ],
   "source": [
    "solve_vqe(h2_pauliop_hamil)"
   ]
  },
  {
   "cell_type": "code",
   "execution_count": null,
   "metadata": {},
   "outputs": [],
   "source": []
  }
 ],
 "metadata": {
  "kernelspec": {
   "display_name": "Python 3",
   "language": "python",
   "name": "python3"
  },
  "language_info": {
   "codemirror_mode": {
    "name": "ipython",
    "version": 3
   },
   "file_extension": ".py",
   "mimetype": "text/x-python",
   "name": "python",
   "nbconvert_exporter": "python",
   "pygments_lexer": "ipython3",
   "version": "3.6.5"
  }
 },
 "nbformat": 4,
 "nbformat_minor": 2
}
