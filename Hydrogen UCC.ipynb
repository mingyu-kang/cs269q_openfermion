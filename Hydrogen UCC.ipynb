{
 "cells": [
  {
   "cell_type": "markdown",
   "metadata": {},
   "source": [
    "The ground Hatree-Fock state is when 1up and 1down orbitals (molecular orbitals) are occupied. This is (1, 1, 0, 0) in fermion occupation basis. In Bravyi-Kitaev basis, this is (1, 0, 0, 0), so just X(0). "
   ]
  },
  {
   "cell_type": "code",
   "execution_count": 1,
   "metadata": {},
   "outputs": [],
   "source": [
    "from openfermion.ops import FermionOperator\n",
    "from openfermion.transforms import jordan_wigner, bravyi_kitaev\n",
    "from openfermion.utils import hermitian_conjugated\n",
    "from openfermion.utils import uccsd_generator\n",
    "import numpy as np\n",
    "\n",
    "from pyquil.paulis import PauliSum\n",
    "from pyquil.api import WavefunctionSimulator\n",
    "from scipy.optimize import minimize\n",
    "from pyquil import Program\n",
    "from pyquil.gates import *\n",
    "\n",
    "from openfermion.ops import QubitOperator\n",
    "from forestopenfermion import pyquilpauli_to_qubitop, qubitop_to_pyquilpauli\n",
    "from forestopenfermion import exponentiate\n",
    "\n",
    "import numpy as np\n",
    "import functools\n",
    "\n",
    "from openfermion.hamiltonians import MolecularData, load_molecular_hamiltonian"
   ]
  },
  {
   "cell_type": "code",
   "execution_count": 2,
   "metadata": {},
   "outputs": [],
   "source": [
    "sim = WavefunctionSimulator()\n",
    "numQubit = 4\n",
    "\n",
    "def solve_vqe_ucc_h2(hamiltonian: PauliSum, degree) -> float:\n",
    "    # Construct a variational quantum eigensolver solution to find the lowest\n",
    "    # eigenvalue of the given hamiltonian\n",
    "    \n",
    "    # degree 1: up to T_1\n",
    "    # degree 2: up to T_2\n",
    "    \n",
    "    numParams = 0\n",
    "    if degree == 1:\n",
    "        numParams = 2\n",
    "    elif degree == 2:\n",
    "        numParams = 3\n",
    "    params_init = np.random.rand(numParams)*0.5-0.25\n",
    "    \n",
    "    def ansatz_energy(params):\n",
    "        p = None\n",
    "        p = Program()\n",
    "        \n",
    "        # Reference state\n",
    "        p += X(0)\n",
    "        \n",
    "        single_amp = []\n",
    "        double_amp = []\n",
    "        \n",
    "        # occupied: 0,1 unoccupied: 2,3\n",
    "        count = 0\n",
    "        single_amp.append([[2,0], params[count]])\n",
    "        count += 1\n",
    "        single_amp.append([[3,1], params[count]])\n",
    "        count += 1\n",
    "        \n",
    "        if degree >= 2:\n",
    "            double_amp.append([[2,0,3,1], params[count]])\n",
    "        \n",
    "        ucc_gen = uccsd_generator(single_amp, double_amp)\n",
    "        ucc_program = exponentiate(bravyi_kitaev(ucc_gen)/(-1j))\n",
    "        p += ucc_program\n",
    "\n",
    "        energy = sim.expectation(p, hamiltonian).real\n",
    "        return energy\n",
    "\n",
    "    option = {}\n",
    "    option['disp']=True\n",
    "    params_answer = minimize(ansatz_energy, params_init, method='L-BFGS-B', options=option).x\n",
    "    #print(params_answer)\n",
    "    return ansatz_energy(params_answer)"
   ]
  },
  {
   "cell_type": "code",
   "execution_count": 3,
   "metadata": {},
   "outputs": [],
   "source": [
    "def get_ground_energy_ucc_h2(interaction_hamil, degree):\n",
    "    fermionop_hamil = FermionOperator()\n",
    "    for key in interaction_hamil:\n",
    "        value = interaction_hamil[key]\n",
    "        fermionop_hamil += FermionOperator(term=key, coefficient=value)\n",
    "        \n",
    "    qubitop_hamil = bravyi_kitaev(fermionop_hamil)\n",
    "    pauliop_hamil = qubitop_to_pyquilpauli(qubitop_hamil)\n",
    "    \n",
    "    sim = WavefunctionSimulator()\n",
    "    return solve_vqe_ucc_h2(pauliop_hamil, degree)\n"
   ]
  },
  {
   "cell_type": "code",
   "execution_count": 4,
   "metadata": {},
   "outputs": [
    {
     "name": "stdout",
     "output_type": "stream",
     "text": [
      "degree: 1, ground state energy:  -0.5938277645816001\n",
      "degree: 2, ground state energy:  -0.6018037168349638\n",
      "degree: 1, ground state energy:  -0.9043613977107844\n",
      "degree: 2, ground state energy:  -0.914149708209542\n",
      "degree: 1, ground state energy:  -1.0429962765064573\n",
      "degree: 2, ground state energy:  -1.0551597964856745\n",
      "degree: 1, ground state energy:  -1.1011282431367135\n",
      "degree: 2, ground state energy:  -1.1162860078249344\n",
      "degree: 1, ground state energy:  -1.117349035069899\n",
      "degree: 2, ground state energy:  -1.1361894542708304\n",
      "degree: 1, ground state energy:  -1.1108503969353456\n",
      "degree: 2, ground state energy:  -1.134147666357412\n",
      "degree: 1, ground state energy:  -1.0919140400707403\n",
      "degree: 2, ground state energy:  -1.1205602806161796\n",
      "degree: 1, ground state energy:  -1.0661086480737638\n",
      "degree: 2, ground state energy:  -1.1011503292780256\n",
      "degree: 1, ground state energy:  -1.0365388735382006\n",
      "degree: 2, ground state energy:  -1.0791929438801384\n",
      "degree: 1, ground state energy:  -1.006372510457733\n",
      "degree: 2, ground state energy:  -1.056740745107252\n",
      "degree: 1, ground state energy:  -0.9840276133265546\n",
      "degree: 2, ground state energy:  -1.0351862652421957\n",
      "degree: 1, ground state energy:  -0.9684912881048543\n",
      "degree: 2, ground state energy:  -1.0154682481426631\n",
      "degree: 1, ground state energy:  -0.957706792786675\n",
      "degree: 2, ground state energy:  -0.9981493524130812\n",
      "degree: 1, ground state energy:  -0.9502279115448771\n",
      "degree: 2, ground state energy:  -0.9834727280903839\n",
      "degree: 1, ground state energy:  -0.9450422286532333\n",
      "degree: 2, ground state energy:  -0.9714266876410158\n",
      "degree: 1, ground state energy:  -0.9414451550001328\n",
      "degree: 2, ground state energy:  -0.9618169521179647\n",
      "degree: 1, ground state energy:  -0.9389481338381177\n",
      "degree: 2, ground state energy:  -0.9543388533796119\n",
      "degree: 1, ground state energy:  -0.9372128329679433\n",
      "degree: 2, ground state energy:  -0.9486411117212852\n",
      "degree: 1, ground state energy:  -0.9360049738349894\n",
      "degree: 2, ground state energy:  -0.9443746807811514\n",
      "degree: 1, ground state energy:  -0.9351623642670172\n",
      "degree: 2, ground state energy:  -0.9412240334317294\n",
      "degree: 1, ground state energy:  -0.9345728285579497\n",
      "degree: 2, ground state energy:  -0.9389223857830897\n",
      "degree: 1, ground state energy:  -0.9341589091991759\n",
      "degree: 2, ground state energy:  -0.937254952860628\n",
      "degree: 1, ground state energy:  -0.9338672031022048\n",
      "degree: 2, ground state energy:  -0.9360549197861161\n",
      "[-0.5938277645816001, -0.9043613977107844, -1.0429962765064573, -1.1011282431367135, -1.117349035069899, -1.1108503969353456, -1.0919140400707403, -1.0661086480737638, -1.0365388735382006, -1.006372510457733, -0.9840276133265546, -0.9684912881048543, -0.957706792786675, -0.9502279115448771, -0.9450422286532333, -0.9414451550001328, -0.9389481338381177, -0.9372128329679433, -0.9360049738349894, -0.9351623642670172, -0.9345728285579497, -0.9341589091991759, -0.9338672031022048]\n",
      "[-0.6018037168349638, -0.914149708209542, -1.0551597964856745, -1.1162860078249344, -1.1361894542708304, -1.134147666357412, -1.1205602806161796, -1.1011503292780256, -1.0791929438801384, -1.056740745107252, -1.0351862652421957, -1.0154682481426631, -0.9981493524130812, -0.9834727280903839, -0.9714266876410158, -0.9618169521179647, -0.9543388533796119, -0.9486411117212852, -0.9443746807811514, -0.9412240334317294, -0.9389223857830897, -0.937254952860628, -0.9360549197861161]\n"
     ]
    }
   ],
   "source": [
    "basis = 'sto-3g'\n",
    "multiplicity = 1  # 2S+1\n",
    "charge = 0\n",
    "\n",
    "import matplotlib.pyplot as plt\n",
    "%matplotlib inline\n",
    "\n",
    "bond_lengths = np.linspace(0.3, 2.5, 23)\n",
    "vqe_energies_deg1 = []\n",
    "vqe_energies_deg2 = []\n",
    "\n",
    "for bond_length in bond_lengths:\n",
    "    geometry = [('H', (0., 0., 0.)), ('H', (0., 0., bond_length))]\n",
    "    description = str(round(bond_length, 2))\n",
    "    h2_interaction_hamil = load_molecular_hamiltonian(geometry,\n",
    "        basis,\n",
    "        multiplicity,\n",
    "        description,\n",
    "        n_active_electrons=None,\n",
    "        n_active_orbitals=None)\n",
    "    \n",
    "    ge = get_ground_energy_ucc_h2(h2_interaction_hamil,1)\n",
    "    vqe_energies_deg1.append(ge)\n",
    "    print('degree: 1, ground state energy: ', ge)\n",
    "    ge = get_ground_energy_ucc_h2(h2_interaction_hamil,2)\n",
    "    vqe_energies_deg2.append(ge)\n",
    "    print('degree: 2, ground state energy: ', ge)\n",
    "\n",
    "print(vqe_energies_deg1)\n",
    "print(vqe_energies_deg2)"
   ]
  },
  {
   "cell_type": "code",
   "execution_count": 7,
   "metadata": {},
   "outputs": [
    {
     "data": {
      "image/png": "[encoded data removed]",
      "text/plain": [
       "<Figure size 432x288 with 1 Axes>"
      ]
     },
     "metadata": {},
     "output_type": "display_data"
    }
   ],
   "source": [
    "bond_lengths = []\n",
    "# Set molecule parameters.\n",
    "basis = 'sto-3g'\n",
    "multiplicity = 1\n",
    "bond_length_interval = 0.1\n",
    "n_points = 25\n",
    "\n",
    "# Generate molecule at different bond lengths.\n",
    "hf_energies = []\n",
    "fci_energies = []\n",
    "bond_lengths = []\n",
    "for bond_length in np.linspace(0.3, 2.5, 23):\n",
    "    bond_lengths += [bond_length]\n",
    "    description = str(round(bond_length,2))\n",
    "#    print(description)\n",
    "    geometry = [('H', (0., 0., 0.)), ('H', (0., 0., bond_length))]\n",
    "    molecule = MolecularData(\n",
    "        geometry, basis, multiplicity, description=description)\n",
    "    \n",
    "    # Load data.\n",
    "    molecule.load()\n",
    "\n",
    "    # Print out some results of calculation.\n",
    "#    print('\\nAt bond length of {} angstrom, molecular hydrogen has:'.format(\n",
    "#        bond_length))\n",
    "#    print('Hartree-Fock energy of {} Hartree.'.format(molecule.hf_energy))\n",
    "#    print('MP2 energy of {} Hartree.'.format(molecule.mp2_energy))\n",
    "#    print('FCI energy of {} Hartree.'.format(molecule.fci_energy))\n",
    "#    print('Nuclear repulsion energy between protons is {} Hartree.'.format(\n",
    "#        molecule.nuclear_repulsion))\n",
    "#    for orbital in range(molecule.n_orbitals):\n",
    "#        print('Spatial orbital {} has energy of {} Hartree.'.format(\n",
    "#            orbital, molecule.orbital_energies[orbital]))\n",
    "    hf_energies += [molecule.hf_energy]\n",
    "    fci_energies += [molecule.fci_energy]\n",
    "    \n",
    "plt.figure(0)\n",
    "plt.plot(bond_lengths, fci_energies, 'o-')\n",
    "plt.plot(bond_lengths, vqe_energies_deg1, '+-')\n",
    "plt.plot(bond_lengths, vqe_energies_deg2, 'x-')\n",
    "plt.ylabel('Energy in Hartree')\n",
    "plt.xlabel('Bond length in angstrom')\n",
    "plt.show()"
   ]
  },
  {
   "cell_type": "code",
   "execution_count": 14,
   "metadata": {},
   "outputs": [
    {
     "name": "stdout",
     "output_type": "stream",
     "text": [
      "0.9999999999888547\n"
     ]
    }
   ],
   "source": [
    "acc = []\n",
    "for i in range(len(fci_energies)):\n",
    "    acc.append(vqe_energies_deg2[i]/fci_energies[i])\n",
    "print(np.mean(acc))"
   ]
  },
  {
   "cell_type": "code",
   "execution_count": null,
   "metadata": {},
   "outputs": [],
   "source": []
  }
 ],
 "metadata": {
  "kernelspec": {
   "display_name": "Python 3",
   "language": "python",
   "name": "python3"
  },
  "language_info": {
   "codemirror_mode": {
    "name": "ipython",
    "version": 3
   },
   "file_extension": ".py",
   "mimetype": "text/x-python",
   "name": "python",
   "nbconvert_exporter": "python",
   "pygments_lexer": "ipython3",
   "version": "3.6.5"
  }
 },
 "nbformat": 4,
 "nbformat_minor": 2
}
