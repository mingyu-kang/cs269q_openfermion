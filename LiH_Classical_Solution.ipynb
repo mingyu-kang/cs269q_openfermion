{
 "cells": [
  {
   "cell_type": "code",
<<<<<<< HEAD
   "execution_count": 4,
=======
   "execution_count": 5,
>>>>>>> bf33e9d5acd57215a185024d47d90b370314a9a5
   "metadata": {},
   "outputs": [
    {
     "name": "stdout",
     "output_type": "stream",
     "text": [
<<<<<<< HEAD
      "Psi4 calculation for H1-Li1_sto-3g_singlet_1.7698 has failed.\n"
     ]
    },
    {
     "ename": "UnboundLocalError",
     "evalue": "local variable 'process' referenced before assignment",
     "output_type": "error",
     "traceback": [
      "\u001b[1;31m---------------------------------------------------------------------------\u001b[0m",
      "\u001b[1;31mFileNotFoundError\u001b[0m                         Traceback (most recent call last)",
      "\u001b[1;32mc:\\users\\lg\\desktop\\spring3\\cs269q\\openfermion-psi4\\openfermionpsi4\\_run_psi4.py\u001b[0m in \u001b[0;36mrun_psi4\u001b[1;34m(molecule, run_scf, run_mp2, run_cisd, run_ccsd, run_fci, verbose, tolerate_error, delete_input, delete_output, memory, template_file)\u001b[0m\n\u001b[0;32m    208\u001b[0m     \u001b[1;32mtry\u001b[0m\u001b[1;33m:\u001b[0m\u001b[1;33m\u001b[0m\u001b[0m\n\u001b[1;32m--> 209\u001b[1;33m         \u001b[0mprocess\u001b[0m \u001b[1;33m=\u001b[0m \u001b[0msubprocess\u001b[0m\u001b[1;33m.\u001b[0m\u001b[0mPopen\u001b[0m\u001b[1;33m(\u001b[0m\u001b[1;33m[\u001b[0m\u001b[1;34m'psi4'\u001b[0m\u001b[1;33m,\u001b[0m \u001b[0minput_file\u001b[0m\u001b[1;33m,\u001b[0m \u001b[0moutput_file\u001b[0m\u001b[1;33m]\u001b[0m\u001b[1;33m)\u001b[0m\u001b[1;33m\u001b[0m\u001b[0m\n\u001b[0m\u001b[0;32m    210\u001b[0m         \u001b[0mprocess\u001b[0m\u001b[1;33m.\u001b[0m\u001b[0mwait\u001b[0m\u001b[1;33m(\u001b[0m\u001b[1;33m)\u001b[0m\u001b[1;33m\u001b[0m\u001b[0m\n",
      "\u001b[1;32mC:\\ProgramData\\Anaconda3\\lib\\subprocess.py\u001b[0m in \u001b[0;36m__init__\u001b[1;34m(self, args, bufsize, executable, stdin, stdout, stderr, preexec_fn, close_fds, shell, cwd, env, universal_newlines, startupinfo, creationflags, restore_signals, start_new_session, pass_fds, encoding, errors)\u001b[0m\n\u001b[0;32m    708\u001b[0m                                 \u001b[0merrread\u001b[0m\u001b[1;33m,\u001b[0m \u001b[0merrwrite\u001b[0m\u001b[1;33m,\u001b[0m\u001b[1;33m\u001b[0m\u001b[0m\n\u001b[1;32m--> 709\u001b[1;33m                                 restore_signals, start_new_session)\n\u001b[0m\u001b[0;32m    710\u001b[0m         \u001b[1;32mexcept\u001b[0m\u001b[1;33m:\u001b[0m\u001b[1;33m\u001b[0m\u001b[0m\n",
      "\u001b[1;32mC:\\ProgramData\\Anaconda3\\lib\\subprocess.py\u001b[0m in \u001b[0;36m_execute_child\u001b[1;34m(self, args, executable, preexec_fn, close_fds, pass_fds, cwd, env, startupinfo, creationflags, shell, p2cread, p2cwrite, c2pread, c2pwrite, errread, errwrite, unused_restore_signals, unused_start_new_session)\u001b[0m\n\u001b[0;32m    996\u001b[0m                                          \u001b[0mos\u001b[0m\u001b[1;33m.\u001b[0m\u001b[0mfspath\u001b[0m\u001b[1;33m(\u001b[0m\u001b[0mcwd\u001b[0m\u001b[1;33m)\u001b[0m \u001b[1;32mif\u001b[0m \u001b[0mcwd\u001b[0m \u001b[1;32mis\u001b[0m \u001b[1;32mnot\u001b[0m \u001b[1;32mNone\u001b[0m \u001b[1;32melse\u001b[0m \u001b[1;32mNone\u001b[0m\u001b[1;33m,\u001b[0m\u001b[1;33m\u001b[0m\u001b[0m\n\u001b[1;32m--> 997\u001b[1;33m                                          startupinfo)\n\u001b[0m\u001b[0;32m    998\u001b[0m             \u001b[1;32mfinally\u001b[0m\u001b[1;33m:\u001b[0m\u001b[1;33m\u001b[0m\u001b[0m\n",
      "\u001b[1;31mFileNotFoundError\u001b[0m: [WinError 2] 지정된 파일을 찾을 수 없습니다",
      "\nDuring handling of the above exception, another exception occurred:\n",
      "\u001b[1;31mUnboundLocalError\u001b[0m                         Traceback (most recent call last)",
      "\u001b[1;32m<ipython-input-4-62ff9af5548b>\u001b[0m in \u001b[0;36m<module>\u001b[1;34m()\u001b[0m\n\u001b[0;32m     46\u001b[0m                             \u001b[0mrun_fci\u001b[0m\u001b[1;33m=\u001b[0m\u001b[0mrun_fci\u001b[0m\u001b[1;33m,\u001b[0m\u001b[1;33m\u001b[0m\u001b[0m\n\u001b[0;32m     47\u001b[0m                             \u001b[0mverbose\u001b[0m\u001b[1;33m=\u001b[0m\u001b[0mverbose\u001b[0m\u001b[1;33m,\u001b[0m\u001b[1;33m\u001b[0m\u001b[0m\n\u001b[1;32m---> 48\u001b[1;33m                             tolerate_error=tolerate_error)\n\u001b[0m\u001b[0;32m     49\u001b[0m         \u001b[0mmolecule\u001b[0m\u001b[1;33m.\u001b[0m\u001b[0msave\u001b[0m\u001b[1;33m(\u001b[0m\u001b[1;33m)\u001b[0m\u001b[1;33m\u001b[0m\u001b[0m\n\u001b[0;32m     50\u001b[0m \u001b[1;33m\u001b[0m\u001b[0m\n",
      "\u001b[1;32mc:\\users\\lg\\desktop\\spring3\\cs269q\\openfermion-psi4\\openfermionpsi4\\_run_psi4.py\u001b[0m in \u001b[0;36mrun_psi4\u001b[1;34m(molecule, run_scf, run_mp2, run_cisd, run_ccsd, run_fci, verbose, tolerate_error, delete_input, delete_output, memory, template_file)\u001b[0m\n\u001b[0;32m    211\u001b[0m     \u001b[1;32mexcept\u001b[0m\u001b[1;33m:\u001b[0m\u001b[1;33m\u001b[0m\u001b[0m\n\u001b[0;32m    212\u001b[0m         \u001b[0mprint\u001b[0m\u001b[1;33m(\u001b[0m\u001b[1;34m'Psi4 calculation for {} has failed.'\u001b[0m\u001b[1;33m.\u001b[0m\u001b[0mformat\u001b[0m\u001b[1;33m(\u001b[0m\u001b[0mmolecule\u001b[0m\u001b[1;33m.\u001b[0m\u001b[0mname\u001b[0m\u001b[1;33m)\u001b[0m\u001b[1;33m)\u001b[0m\u001b[1;33m\u001b[0m\u001b[0m\n\u001b[1;32m--> 213\u001b[1;33m         \u001b[0mprocess\u001b[0m\u001b[1;33m.\u001b[0m\u001b[0mkill\u001b[0m\u001b[1;33m(\u001b[0m\u001b[1;33m)\u001b[0m\u001b[1;33m\u001b[0m\u001b[0m\n\u001b[0m\u001b[0;32m    214\u001b[0m         \u001b[0mclean_up\u001b[0m\u001b[1;33m(\u001b[0m\u001b[0mmolecule\u001b[0m\u001b[1;33m,\u001b[0m \u001b[0mdelete_input\u001b[0m\u001b[1;33m,\u001b[0m \u001b[0mdelete_output\u001b[0m\u001b[1;33m)\u001b[0m\u001b[1;33m\u001b[0m\u001b[0m\n\u001b[0;32m    215\u001b[0m         \u001b[1;32mif\u001b[0m \u001b[1;32mnot\u001b[0m \u001b[0mtolerate_error\u001b[0m\u001b[1;33m:\u001b[0m\u001b[1;33m\u001b[0m\u001b[0m\n",
      "\u001b[1;31mUnboundLocalError\u001b[0m: local variable 'process' referenced before assignment"
=======
      "Psi4 calculation for H2-Be1_sto-3g_singlet_0.4 has failed.\n",
      "Psi4 calculation for H2-Be1_sto-3g_singlet_0.7 has failed.\n"
>>>>>>> bf33e9d5acd57215a185024d47d90b370314a9a5
     ]
    }
   ],
   "source": [
    "# /anaconda3/lib/python3.6/site-packages/openfermion/data/\n",
    "\n",
    "import os\n",
    "\n",
    "from openfermion.hamiltonians import MolecularData\n",
    "\n",
    "from openfermionpsi4 import run_psi4\n",
    "\n",
    "if __name__ == '__main__':\n",
    "\n",
    "    # Set chemical parameters.\n",
    "    element_names = ['H', 'Be']\n",
    "    basis = 'sto-3g'\n",
    "    charge = 0\n",
    "    multiplicity = 1\n",
    "\n",
    "    # Single point at equilibrium for testing\n",
    "    spacings = [1.7698]\n",
    "\n",
    "    # Add points for a full dissociation curve from 0.1 to 3.0 angstroms\n",
    "    spacings += [0.1 * r for r in range(1, 30)]\n",
    "\n",
    "    # Set run options\n",
    "    run_scf = 1\n",
    "    run_mp2 = 1\n",
    "    run_cisd = 1\n",
    "    run_ccsd = 1\n",
    "    run_fci = 1\n",
    "    verbose = 1\n",
    "    tolerate_error = 1\n",
    "\n",
    "    # Run Diatomic Curve\n",
    "    for spacing in spacings:\n",
    "        description = \"{0:0.1f}\".format(spacing)\n",
    "        geometry = [['H', [0, 0, -spacing]],\n",
    "                    ['Be', [0, 0, 0]],\n",
    "                    ['H', [0, 0, spacing]]]\n",
    "        molecule = MolecularData(geometry,\n",
    "                                 basis,\n",
    "                                 multiplicity,\n",
    "                                 charge,\n",
    "                                 description)\n",
    "\n",
    "        molecule = run_psi4(molecule,\n",
    "                            run_scf=run_scf,\n",
    "                            run_mp2=run_mp2,\n",
    "                            run_cisd=run_cisd,\n",
    "                            run_ccsd=run_ccsd,\n",
    "                            run_fci=run_fci,\n",
    "                            verbose=verbose,\n",
    "                            tolerate_error=tolerate_error)\n",
    "        molecule.save()\n",
    " "
   ]
  },
  {
   "cell_type": "code",
   "execution_count": null,
   "metadata": {},
   "outputs": [],
   "source": []
  },
  {
   "cell_type": "code",
   "execution_count": null,
   "metadata": {},
   "outputs": [],
   "source": []
  }
 ],
 "metadata": {
  "kernelspec": {
   "display_name": "Python 3",
   "language": "python",
   "name": "python3"
  },
  "language_info": {
   "codemirror_mode": {
    "name": "ipython",
    "version": 3
   },
   "file_extension": ".py",
   "mimetype": "text/x-python",
   "name": "python",
   "nbconvert_exporter": "python",
   "pygments_lexer": "ipython3",
   "version": "3.6.8"
  }
 },
 "nbformat": 4,
 "nbformat_minor": 2
}
