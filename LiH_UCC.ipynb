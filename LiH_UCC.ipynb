{
 "cells": [
  {
   "cell_type": "code",
   "execution_count": 2,
   "metadata": {},
   "outputs": [],
   "source": [
    "from openfermion.hamiltonians import MolecularData, load_molecular_hamiltonian\n",
    "from openfermion.ops import FermionOperator\n",
    "from openfermion.transforms import bravyi_kitaev\n",
    "from openfermion.utils import hermitian_conjugated\n",
    "from openfermion.ops import QubitOperator\n",
    "from forestopenfermion import pyquilpauli_to_qubitop, qubitop_to_pyquilpauli\n",
    "from pyquil.paulis import PauliSum\n",
    "from pyquil.api import WavefunctionSimulator\n",
    "from scipy.optimize import minimize\n",
    "from pyquil import Program\n",
    "from pyquil.gates import *\n",
    "\n",
    "import numpy as np\n",
    "import functools\n",
    "\n",
    "import matplotlib.pyplot as plt\n",
    "%matplotlib inline\n",
    "\n",
    "from openfermion.utils import uccsd_generator\n",
    "from forestopenfermion import exponentiate\n"
   ]
  },
  {
   "cell_type": "code",
   "execution_count": 2,
   "metadata": {},
   "outputs": [],
   "source": [
    "sim = WavefunctionSimulator()\n",
    "numQubit = 12\n",
    "class Track:\n",
    "    def __init__(self):\n",
    "        self.cnt = 0\n",
    "        \n",
    "        \n",
    "def solve_vqe_ucc_LiH(hamiltonian: PauliSum, degree) -> float:\n",
    "    # Construct a variational quantum eigensolver solution to find the lowest\n",
    "    # eigenvalue of the given hamiltonian\n",
    "    \n",
    "    # degree 1: up to T_1\n",
    "    # degree 2: up to T_2\n",
    "    \n",
    "    numParams = 0\n",
    "    if degree == 1:\n",
    "        numParams = 16\n",
    "    elif degree == 2:\n",
    "        numParams = 16+64+12\n",
    "    params_init = np.random.rand(numParams)*0.5-0.25\n",
    "    \n",
    "    track = Track()\n",
    "\n",
    "    def inc(t, xk):\n",
    "        t.cnt += 1\n",
    "    \n",
    "    \n",
    "    def ansatz_energy(t, params):\n",
    "        t.cnt += 1\n",
    "        p = None\n",
    "        p = Program()\n",
    "        \n",
    "        # Reference state\n",
    "        p += X(0)\n",
    "        p += X(2)\n",
    "        \n",
    "        single_amp = []\n",
    "        double_amp = []\n",
    "        \n",
    "        # occupied: 0,1,2,3 unoccupied: rest\n",
    "        for i in range(4):\n",
    "            single_amp.append([[2*i+4, 0], params[4*i]])\n",
    "            single_amp.append([[2*i+5, 1], params[4*i+1]])\n",
    "            single_amp.append([[2*i+4, 2], params[4*i+2]])\n",
    "            single_amp.append([[2*i+5, 3], params[4*i+3]])\n",
    "            \n",
    "        if degree == 2:\n",
    "            for i in range(4):\n",
    "                for j in range(4):\n",
    "                    double_amp.append([[2*i+4, 0, 2*j+5, 1], params[16+(4*i+j)*4]])\n",
    "                    double_amp.append([[2*i+4, 0, 2*j+5, 3], params[16+(4*i+j)*4+1]])\n",
    "                    double_amp.append([[2*i+4, 2, 2*j+5, 1], params[16+(4*i+j)*4+2]])\n",
    "                    double_amp.append([[2*i+4, 2, 2*j+5, 3], params[16+(4*i+j)*4+3]])\n",
    "                    \n",
    "            count = 0\n",
    "            for i in range(3):\n",
    "                for j in range(i+1, 4):\n",
    "                    double_amp.append([[2*i+4, 0, 2*j+4, 2], params[16+64+count]])\n",
    "                    count += 1\n",
    "                    double_amp.append([[2*i+5, 1, 2*j+5, 3], params[16+64+count]])\n",
    "                    count += 1\n",
    "                    \n",
    "                    \n",
    "        '''\n",
    "        # occupied: 0,1,2,4 unoccupied: rest\n",
    "        for i in range(3):\n",
    "            single_amp.append([[2*i+6, 0], params[3*i]])\n",
    "            single_amp.append([[2*i+6, 2], params[3*i+1]])\n",
    "            single_amp.append([[2*i+6, 4], params[3*i+2]])\n",
    "        for i in range(5):\n",
    "            single_amp.append([[2*i+3, 1], params[9+i]])\n",
    "            \n",
    "        if degree == 2:\n",
    "            for i in range(4):\n",
    "                for j in range(4):\n",
    "                    double_amp.append([[2*i+4, 0, 2*j+5, 1], params[16+(4*i+j)*4]])\n",
    "                    double_amp.append([[2*i+4, 0, 2*j+5, 3], params[16+(4*i+j)*4+1]])\n",
    "                    double_amp.append([[2*i+4, 2, 2*j+5, 1], params[16+(4*i+j)*4+2]])\n",
    "                    double_amp.append([[2*i+4, 2, 2*j+5, 3], params[16+(4*i+j)*4+3]])        \n",
    "        '''\n",
    "        \n",
    "        ucc_gen = uccsd_generator(single_amp, double_amp)\n",
    "        ucc_gen_qubitop = bravyi_kitaev(ucc_gen)\n",
    "        try:\n",
    "            ucc_program = exponentiate(ucc_gen_qubitop/(-1j))\n",
    "        except:\n",
    "            ucc_program = I(0)\n",
    "        p += ucc_program\n",
    "\n",
    "        energy = sim.expectation(p, hamiltonian).real\n",
    "        return energy\n",
    "\n",
    "    params_answer = minimize(functools.partial(ansatz_energy, track), params_init, method='L-BFGS-B').x\n",
    "    return ansatz_energy(track, params_answer), track.cnt"
   ]
  },
  {
   "cell_type": "code",
   "execution_count": 3,
   "metadata": {},
   "outputs": [],
   "source": [
    "def get_ground_energy_ucc_LiH(interaction_hamil, degree):\n",
    "    fermionop_hamil = FermionOperator()\n",
    "    for key in interaction_hamil:\n",
    "        value = interaction_hamil[key]\n",
    "        fermionop_hamil += FermionOperator(term=key, coefficient=value)\n",
    "        \n",
    "    qubitop_hamil = bravyi_kitaev(fermionop_hamil)\n",
    "    pauliop_hamil = qubitop_to_pyquilpauli(qubitop_hamil)\n",
    "    \n",
    "    sim = WavefunctionSimulator()\n",
    "    return solve_vqe_ucc_LiH(pauliop_hamil, degree)\n"
   ]
  },
  {
   "cell_type": "code",
   "execution_count": 4,
   "metadata": {},
   "outputs": [
    {
     "name": "stdout",
     "output_type": "stream",
     "text": [
      "bond length:  0.3  ground state energy:  -5.848650385119788  iteration:  1123\n",
      "bond length:  0.6  ground state energy:  -7.299541024614223  iteration:  511\n",
      "bond length:  0.9  ground state energy:  -7.705753324726221  iteration:  375\n",
      "bond length:  1.2  ground state energy:  -7.835615819547609  iteration:  409\n",
      "bond length:  1.5  ground state energy:  -7.863357610043141  iteration:  409\n",
      "bond length:  1.8  ground state energy:  -7.850018688323793  iteration:  409\n",
      "bond length:  2.1  ground state energy:  -7.820695147349064  iteration:  579\n",
      "bond length:  2.4  ground state energy:  -7.802336946862169  iteration:  443\n"
     ]
    }
   ],
   "source": [
    "basis = 'sto-3g'\n",
    "multiplicity = 1  # 2S+1\n",
    "charge = 0\n",
    "\n",
    "import matplotlib.pyplot as plt\n",
    "%matplotlib inline\n",
    "\n",
    "bond_lengths = np.linspace(0.3, 2.4, 8)\n",
    "vqe_ground_energies = []\n",
    "vqe_iter_mean = []\n",
    "vqe_iter_std = []\n",
    "\n",
    "for degree in [1]:\n",
    "    gelist = []\n",
    "    iterlist = []\n",
    "    for bond_length in bond_lengths:\n",
    "        geometry = [('H', (0., 0., 0.)), ('Li', (0., 0., bond_length))]\n",
    "        description = str(round(bond_length, 2))\n",
    "        LiH_interaction_hamil = load_molecular_hamiltonian(geometry,\n",
    "            basis,\n",
    "            multiplicity,\n",
    "            description,\n",
    "            n_active_electrons=None,\n",
    "            n_active_orbitals=None)\n",
    "\n",
    "        ge, cnt = get_ground_energy_ucc_LiH(LiH_interaction_hamil, degree)\n",
    "        print('bond length: ', round(bond_length, 2), ' ground state energy: ', ge, ' iteration: ', cnt)\n",
    "        gelist.append(ge)\n",
    "        iterlist.append(cnt)\n",
    "        \n",
    "    vqe_ground_energies.append(gelist)\n",
    "    vqe_iter_mean.append(np.mean(iterlist))\n",
    "    vqe_iter_std.append(np.std(iterlist))\n"
   ]
  },
  {
   "cell_type": "code",
   "execution_count": 6,
   "metadata": {},
   "outputs": [
    {
     "data": {
      "image/png": "[encoded data removed]",
      "text/plain": [
       "<Figure size 432x288 with 1 Axes>"
      ]
     },
     "metadata": {},
     "output_type": "display_data"
    }
   ],
   "source": [
    "# Set molecule parameters.\n",
    "basis = 'sto-3g'\n",
    "multiplicity = 1\n",
    "\n",
    "# Generate molecule at different bond lengths.\n",
    "hf_energies = []\n",
    "fci_energies = []\n",
    "bond_lengths = []\n",
    "for bond_length in np.linspace(0.3, 2.5, 23):\n",
    "    bond_lengths += [bond_length]\n",
    "    description = str(round(bond_length,2))\n",
    "#    print(description)\n",
    "    geometry = [('H', (0., 0., 0.)), ('Li', (0., 0., bond_length))]\n",
    "    molecule = MolecularData(\n",
    "        geometry, basis, multiplicity, description=description)\n",
    "    \n",
    "    # Load data.\n",
    "    molecule.load()\n",
    "    fci_energies += [molecule.fci_energy]\n",
    "\n",
    "plt.figure(0)\n",
    "plt.plot(bond_lengths, fci_energies, 'rx-', linewidth=1, markersize=1)\n",
    "plt.plot(np.linspace(0.3, 2.4, 8), vqe_ground_energies[0], 'go-', linewidth=1, markersize=1)\n",
    "#plt.plot(bond_lengths, vqe_ground_energies[1], 'bo-', linewidth=1, markersize=1)\n",
    "plt.ylabel('Energy in Hartree')\n",
    "plt.xlabel('Bond length in angstrom')\n",
    "plt.show()"
   ]
  },
  {
   "cell_type": "code",
   "execution_count": 7,
   "metadata": {},
   "outputs": [
    {
     "name": "stdout",
     "output_type": "stream",
     "text": [
      "[-5.848650385119788, -7.299541024614223, -7.705753324726221, -7.835615819547609, -7.863357610043141, -7.850018688323793, -7.820695147349064, -7.802336946862169]\n"
     ]
    }
   ],
   "source": [
    "print(vqe_ground_energies[0])"
   ]
  },
  {
   "cell_type": "code",
   "execution_count": 9,
   "metadata": {},
   "outputs": [
    {
     "name": "stdout",
     "output_type": "stream",
     "text": [
      "13174\n"
     ]
    }
   ],
   "source": [
    "degree = 2\n",
    "\n",
    "p = None\n",
    "p = Program()\n",
    "params = np.random.rand(92)*0.5-0.25\n",
    "\n",
    "# Reference state\n",
    "p += X(0)\n",
    "p += X(2)\n",
    "\n",
    "single_amp = []\n",
    "double_amp = []\n",
    "\n",
    "# occupied: 0,1,2,3 unoccupied: rest\n",
    "for i in range(4):\n",
    "    single_amp.append([[2*i+4, 0], params[4*i]])\n",
    "    single_amp.append([[2*i+5, 1], params[4*i+1]])\n",
    "    single_amp.append([[2*i+4, 2], params[4*i+2]])\n",
    "    single_amp.append([[2*i+5, 3], params[4*i+3]])\n",
    "\n",
    "if degree == 2:\n",
    "    for i in range(4):\n",
    "        for j in range(4):\n",
    "            double_amp.append([[2*i+4, 0, 2*j+5, 1], params[16+(4*i+j)*4]])\n",
    "            double_amp.append([[2*i+4, 0, 2*j+5, 3], params[16+(4*i+j)*4+1]])\n",
    "            double_amp.append([[2*i+4, 2, 2*j+5, 1], params[16+(4*i+j)*4+2]])\n",
    "            double_amp.append([[2*i+4, 2, 2*j+5, 3], params[16+(4*i+j)*4+3]])\n",
    "\n",
    "    count = 0\n",
    "    for i in range(3):\n",
    "        for j in range(i+1, 4):\n",
    "            double_amp.append([[2*i+4, 0, 2*j+4, 2], params[16+64+count]])\n",
    "            count += 1\n",
    "            double_amp.append([[2*i+5, 1, 2*j+5, 3], params[16+64+count]])\n",
    "            count += 1\n",
    "\n",
    "\n",
    "ucc_gen = uccsd_generator(single_amp, double_amp)\n",
    "ucc_gen_qubitop = bravyi_kitaev(ucc_gen)\n",
    "try:\n",
    "    ucc_program = exponentiate(ucc_gen_qubitop/(-1j))\n",
    "except:\n",
    "    ucc_program = I(0)\n",
    "p += ucc_program\n",
    "\n",
    "print(len(p))"
   ]
  },
  {
   "cell_type": "code",
   "execution_count": 17,
   "metadata": {},
   "outputs": [
    {
     "data": {
      "image/png": "[encoded data removed]",
      "text/plain": [
       "<Figure size 1152x432 with 2 Axes>"
      ]
     },
     "metadata": {},
     "output_type": "display_data"
    }
   ],
   "source": [
    "LiH_energies = [-5.848650385119788, -7.299541024614223, -7.705753324726221, -7.835615819547609, -7.863357610043141, -7.850018688323793, -7.820695147349064, -7.802336946862169]\n",
    "BeH2_energies = [-10.330012617652656, -14.370075461352055, -15.338455474796321, -15.553586412736964, -15.532213318694374, -15.433625855632673, -15.314113243996117, -15.234590028212425]\n",
    "# Set molecule parameters.\n",
    "basis = 'sto-3g'\n",
    "multiplicity = 1\n",
    "\n",
    "# Generate molecule at different bond lengths.\n",
    "fci_energies1 = []\n",
    "fci_energies2 =[]\n",
    "bond_lengths = []\n",
    "for bond_length in np.linspace(0.3, 2.5, 23):\n",
    "    bond_lengths += [bond_length]\n",
    "    description = str(round(bond_length,2))\n",
    "#    print(description)\n",
    "    geometry = [('H', (0., 0., 0.)), ('Li', (0., 0., bond_length))]\n",
    "    molecule = MolecularData(\n",
    "        geometry, basis, multiplicity, description=description)\n",
    "    \n",
    "    # Load data.\n",
    "    molecule.load()\n",
    "    fci_energies1 += [molecule.fci_energy]\n",
    "    \n",
    "    geometry = [('H', (0., 0., -bond_length)), ('Be', (0., 0., 0.)), ('H', (0., 0., bond_length))]\n",
    "    molecule = MolecularData(\n",
    "        geometry, basis, multiplicity, description=description)\n",
    "    \n",
    "    # Load data.\n",
    "    molecule.load()\n",
    "    fci_energies2 += [molecule.fci_energy]\n",
    "\n",
    "fci_energies2[4] = -14.871329756203133   \n",
    "\n",
    "\n",
    "f = plt.figure(figsize=(16,6))\n",
    "ax = f.add_subplot(121)\n",
    "ax.plot(np.linspace(0.3, 2.4, 8), LiH_energies, 'go-', linewidth=1, markersize=3, label='degree=1')\n",
    "ax.plot(bond_lengths, fci_energies1, 'r-', linewidth=1, markersize=1, label='exact solution')\n",
    "ax.tick_params(labelsize = 12)\n",
    "ax.set_title('LiH', fontsize=15)\n",
    "plt.legend(prop={'size': 16})\n",
    "plt.ylabel('Energy in Hartree', size=15)\n",
    "plt.xlabel('Bond length in angstrom', size=15)\n",
    "\n",
    "ax2 = f.add_subplot(122)\n",
    "ax2.plot(np.linspace(0.3, 2.4, 8), BeH2_energies, 'go-', linewidth=1, markersize=3, label='degree=1')\n",
    "ax2.plot(bond_lengths, fci_energies2, 'r-', linewidth=1, markersize=1, label='exact solution')\n",
    "ax2.tick_params(labelsize = 12)\n",
    "ax2.set_title('BeH2', fontsize=15)\n",
    "plt.ylabel('Energy in Hartree', size=15)\n",
    "plt.legend(prop={'size': 16})\n",
    "plt.xlabel('Bond length in angstrom', size=15)\n",
    "f.savefig('PLOT4.pdf', bbox_inches='tight')\n"
   ]
  },
  {
   "cell_type": "code",
   "execution_count": 22,
   "metadata": {},
   "outputs": [
    {
     "name": "stdout",
     "output_type": "stream",
     "text": [
      "0.9967407600517272\n",
      "0.9957426647597392\n"
     ]
    }
   ],
   "source": [
    "fci_energies1_reduced = []\n",
    "fci_energies2_reduced = []\n",
    "for i in range(8):\n",
    "    fci_energies1_reduced.append(fci_energies1[3*i])\n",
    "    fci_energies2_reduced.append(fci_energies2[3*i])\n",
    "fci_energies1_reduced = np.array(fci_energies1_reduced)\n",
    "fci_energies2_reduced = np.array(fci_energies2_reduced)\n",
    "print(np.mean(1-np.abs((LiH_energies-fci_energies1_reduced)/fci_energies1_reduced)))\n",
    "print(np.mean(1-np.abs((BeH2_energies-fci_energies2_reduced)/fci_energies2_reduced)))"
   ]
  },
  {
   "cell_type": "code",
   "execution_count": null,
   "metadata": {},
   "outputs": [],
   "source": []
  }
 ],
 "metadata": {
  "kernelspec": {
   "display_name": "Python 3",
   "language": "python",
   "name": "python3"
  },
  "language_info": {
   "codemirror_mode": {
    "name": "ipython",
    "version": 3
   },
   "file_extension": ".py",
   "mimetype": "text/x-python",
   "name": "python",
   "nbconvert_exporter": "python",
   "pygments_lexer": "ipython3",
   "version": "3.6.8"
  }
 },
 "nbformat": 4,
 "nbformat_minor": 2
}
