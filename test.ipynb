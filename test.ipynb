{
 "cells": [
  {
   "cell_type": "code",
   "execution_count": 31,
   "metadata": {},
   "outputs": [],
   "source": [
    "from openfermion.hamiltonians import MolecularData, load_molecular_hamiltonian\n",
    "\n",
    "# Set parameters to make a simple molecule.\n",
    "diatomic_bond_length = .7414\n",
    "geometry = [('H', (0., 0., 0.)), ('H', (0., 0., diatomic_bond_length))]\n",
    "basis = 'sto-3g'\n",
    "multiplicity = 1  # 2S+1\n",
    "charge = 0\n",
    "description = str(diatomic_bond_length)\n",
    "\n",
    "# Make molecule and print out a few interesting facts about it.\n",
    "#molecule = MolecularData(geometry, basis, multiplicity, charge, description)\n",
    "\n",
    "h2_interaction_hamil = load_molecular_hamiltonian(geometry,\n",
    "        basis,\n",
    "        multiplicity,\n",
    "        description,\n",
    "        n_active_electrons=None,\n",
    "        n_active_orbitals=None)"
   ]
  },
  {
   "cell_type": "code",
   "execution_count": 32,
   "metadata": {},
   "outputs": [
    {
     "name": "stdout",
     "output_type": "stream",
     "text": [
      "() 0.713753990544915\n",
      "((0, 1), (0, 0)) -1.2524635715927757\n",
      "((1, 1), (1, 0)) -1.2524635715927757\n",
      "((2, 1), (2, 0)) -0.4759487172683097\n",
      "((3, 1), (3, 0)) -0.4759487172683097\n",
      "((0, 1), (0, 1), (0, 0), (0, 0)) 0.3372443828669511\n",
      "((0, 1), (0, 1), (2, 0), (2, 0)) 0.09064440419713085\n",
      "((0, 1), (1, 1), (1, 0), (0, 0)) 0.3372443828669511\n",
      "((0, 1), (1, 1), (3, 0), (2, 0)) 0.09064440419713085\n",
      "((0, 1), (2, 1), (0, 0), (2, 0)) 0.09064440419713081\n",
      "((0, 1), (2, 1), (2, 0), (0, 0)) 0.33173404792821903\n",
      "((0, 1), (3, 1), (1, 0), (2, 0)) 0.09064440419713081\n",
      "((0, 1), (3, 1), (3, 0), (0, 0)) 0.33173404792821903\n",
      "((1, 1), (0, 1), (0, 0), (1, 0)) 0.3372443828669511\n",
      "((1, 1), (0, 1), (2, 0), (3, 0)) 0.09064440419713085\n",
      "((1, 1), (1, 1), (1, 0), (1, 0)) 0.3372443828669511\n",
      "((1, 1), (1, 1), (3, 0), (3, 0)) 0.09064440419713085\n",
      "((1, 1), (2, 1), (0, 0), (3, 0)) 0.09064440419713081\n",
      "((1, 1), (2, 1), (2, 0), (1, 0)) 0.33173404792821903\n",
      "((1, 1), (3, 1), (1, 0), (3, 0)) 0.09064440419713081\n",
      "((1, 1), (3, 1), (3, 0), (1, 0)) 0.33173404792821903\n",
      "((2, 1), (0, 1), (0, 0), (2, 0)) 0.33173404792821914\n",
      "((2, 1), (0, 1), (2, 0), (0, 0)) 0.0906444041971308\n",
      "((2, 1), (1, 1), (1, 0), (2, 0)) 0.33173404792821914\n",
      "((2, 1), (1, 1), (3, 0), (0, 0)) 0.0906444041971308\n",
      "((2, 1), (2, 1), (0, 0), (0, 0)) 0.09064440419713085\n",
      "((2, 1), (2, 1), (2, 0), (2, 0)) 0.34869688341114263\n",
      "((2, 1), (3, 1), (1, 0), (0, 0)) 0.09064440419713085\n",
      "((2, 1), (3, 1), (3, 0), (2, 0)) 0.34869688341114263\n",
      "((3, 1), (0, 1), (0, 0), (3, 0)) 0.33173404792821914\n",
      "((3, 1), (0, 1), (2, 0), (1, 0)) 0.0906444041971308\n",
      "((3, 1), (1, 1), (1, 0), (3, 0)) 0.33173404792821914\n",
      "((3, 1), (1, 1), (3, 0), (1, 0)) 0.0906444041971308\n",
      "((3, 1), (2, 1), (0, 0), (1, 0)) 0.09064440419713085\n",
      "((3, 1), (2, 1), (2, 0), (3, 0)) 0.34869688341114263\n",
      "((3, 1), (3, 1), (1, 0), (1, 0)) 0.09064440419713085\n",
      "((3, 1), (3, 1), (3, 0), (3, 0)) 0.34869688341114263\n",
      "\n"
     ]
    }
   ],
   "source": [
    "print(h2_interaction_hamil)  # in 'Interaction Operator' format"
   ]
  },
  {
   "cell_type": "code",
   "execution_count": 33,
   "metadata": {},
   "outputs": [],
   "source": [
    "from openfermion.ops import FermionOperator\n",
    "from openfermion.transforms import bravyi_kitaev\n",
    "from openfermion.utils import hermitian_conjugated"
   ]
  },
  {
   "cell_type": "code",
   "execution_count": 34,
   "metadata": {},
   "outputs": [
    {
     "name": "stdout",
     "output_type": "stream",
     "text": [
      "0.713753990544915 [] +\n",
      "-1.2524635715927757 [0^ 0] +\n",
      "0.3372443828669511 [0^ 0^ 0 0] +\n",
      "0.09064440419713085 [0^ 0^ 2 2] +\n",
      "0.3372443828669511 [0^ 1^ 1 0] +\n",
      "0.09064440419713085 [0^ 1^ 3 2] +\n",
      "0.09064440419713081 [0^ 2^ 0 2] +\n",
      "0.33173404792821903 [0^ 2^ 2 0] +\n",
      "0.09064440419713081 [0^ 3^ 1 2] +\n",
      "0.33173404792821903 [0^ 3^ 3 0] +\n",
      "0.3372443828669511 [1^ 0^ 0 1] +\n",
      "0.09064440419713085 [1^ 0^ 2 3] +\n",
      "-1.2524635715927757 [1^ 1] +\n",
      "0.3372443828669511 [1^ 1^ 1 1] +\n",
      "0.09064440419713085 [1^ 1^ 3 3] +\n",
      "0.09064440419713081 [1^ 2^ 0 3] +\n",
      "0.33173404792821903 [1^ 2^ 2 1] +\n",
      "0.09064440419713081 [1^ 3^ 1 3] +\n",
      "0.33173404792821903 [1^ 3^ 3 1] +\n",
      "0.33173404792821914 [2^ 0^ 0 2] +\n",
      "0.0906444041971308 [2^ 0^ 2 0] +\n",
      "0.33173404792821914 [2^ 1^ 1 2] +\n",
      "0.0906444041971308 [2^ 1^ 3 0] +\n",
      "-0.4759487172683097 [2^ 2] +\n",
      "0.09064440419713085 [2^ 2^ 0 0] +\n",
      "0.34869688341114263 [2^ 2^ 2 2] +\n",
      "0.09064440419713085 [2^ 3^ 1 0] +\n",
      "0.34869688341114263 [2^ 3^ 3 2] +\n",
      "0.33173404792821914 [3^ 0^ 0 3] +\n",
      "0.0906444041971308 [3^ 0^ 2 1] +\n",
      "0.33173404792821914 [3^ 1^ 1 3] +\n",
      "0.0906444041971308 [3^ 1^ 3 1] +\n",
      "0.09064440419713085 [3^ 2^ 0 1] +\n",
      "0.34869688341114263 [3^ 2^ 2 3] +\n",
      "-0.4759487172683097 [3^ 3] +\n",
      "0.09064440419713085 [3^ 3^ 1 1] +\n",
      "0.34869688341114263 [3^ 3^ 3 3]\n"
     ]
    }
   ],
   "source": [
    "h2_fermionop_hamil = FermionOperator()\n",
    "\n",
    "for key in h2_interaction_hamil:\n",
    "    value = h2_interaction_hamil[key]\n",
    "    h2_fermionop_hamil += FermionOperator(term=key, coefficient=value)\n",
    "\n",
    "print(h2_fermionop_hamil)\n"
   ]
  },
  {
   "cell_type": "code",
   "execution_count": 35,
   "metadata": {},
   "outputs": [
    {
     "name": "stdout",
     "output_type": "stream",
     "text": [
      "(-0.09886397351781583+0j) [] +\n",
      "(0.04532220209856541+0j) [X0 Z1 X2] +\n",
      "(0.04532220209856541+0j) [X0 Z1 X2 Z3] +\n",
      "(0.04532220209856541+0j) [Y0 Z1 Y2] +\n",
      "(0.04532220209856541+0j) [Y0 Z1 Y2 Z3] +\n",
      "(0.17119774853325848+0j) [Z0] +\n",
      "(0.1711977485332586+0j) [Z0 Z1] +\n",
      "(0.16586702396410954+0j) [Z0 Z1 Z2] +\n",
      "(0.16586702396410954+0j) [Z0 Z1 Z2 Z3] +\n",
      "(0.12054482186554413+0j) [Z0 Z2] +\n",
      "(0.12054482186554413+0j) [Z0 Z2 Z3] +\n",
      "(0.16862219143347554+0j) [Z1] +\n",
      "(-0.22278592890107013+0j) [Z1 Z2 Z3] +\n",
      "(0.17434844170557132+0j) [Z1 Z3] +\n",
      "(-0.22278592890107018+0j) [Z2]\n"
     ]
    }
   ],
   "source": [
    "h2_qubitop_hamil = bravyi_kitaev(h2_fermionop_hamil)\n",
    "print(h2_qubitop_hamil)"
   ]
  },
  {
   "cell_type": "code",
   "execution_count": 36,
   "metadata": {},
   "outputs": [
    {
     "name": "stdout",
     "output_type": "stream",
     "text": [
      "(-0.09886397351781583+0j)*I + (0.17119774853325848+0j)*Z0 + (0.1711977485332586+0j)*Z0*Z1 + (-0.22278592890107018+0j)*Z2 + (-0.22278592890107013+0j)*Z1*Z2*Z3 + (0.16862219143347554+0j)*Z1 + (0.04532220209856541+0j)*Y0*Z1*Y2*Z3 + (0.04532220209856541+0j)*X0*Z1*X2 + (0.04532220209856541+0j)*X0*Z1*X2*Z3 + (0.04532220209856541+0j)*Y0*Z1*Y2 + (0.12054482186554413+0j)*Z0*Z2 + (0.16586702396410954+0j)*Z0*Z1*Z2*Z3 + (0.16586702396410954+0j)*Z0*Z1*Z2 + (0.12054482186554413+0j)*Z0*Z2*Z3 + (0.17434844170557132+0j)*Z1*Z3\n"
     ]
    }
   ],
   "source": [
    "from openfermion.ops import QubitOperator\n",
    "from forestopenfermion import pyquilpauli_to_qubitop, qubitop_to_pyquilpauli\n",
    "\n",
    "h2_pauliop_hamil = qubitop_to_pyquilpauli(h2_qubitop_hamil)\n",
    "print(h2_pauliop_hamil)"
   ]
  },
  {
   "cell_type": "code",
   "execution_count": 37,
   "metadata": {},
   "outputs": [],
   "source": [
    "from pyquil.paulis import PauliSum\n",
    "from pyquil.api import WavefunctionSimulator\n",
    "from scipy.optimize import minimize\n",
    "from pyquil import Program\n",
    "from pyquil.gates import *\n",
    "\n",
    "import numpy as np\n",
    "import functools"
   ]
  },
  {
   "cell_type": "code",
   "execution_count": 40,
   "metadata": {},
   "outputs": [],
   "source": [
    "sim = WavefunctionSimulator(random_seed=1337)\n",
    "numQubit = 4\n",
    "numLayer = 4\n",
    "\n",
    "def solve_vqe(hamiltonian: PauliSum) -> float:\n",
    "    # Construct a variational quantum eigensolver solution to find the lowest\n",
    "    # eigenvalue of the given hamiltonian\n",
    "    theta_init = np.random.rand(2*numQubit*numLayer) * 2 * np.pi\n",
    "\n",
    "    def ansatz_energy(theta_vec):\n",
    "        p = None\n",
    "        p = Program()\n",
    "        for j in range(numLayer):\n",
    "            for i in range(numQubit):\n",
    "                p += RX(theta_vec[2*numQubit * j + 2 * i], i)\n",
    "                p += RZ(theta_vec[2*numQubit * j + 2 * i + 1], i)\n",
    "            for i in range(numQubit - 1):\n",
    "                p += CNOT(i, i + 1)\n",
    "\n",
    "        energy = sim.expectation(p, hamiltonian).real\n",
    "        return energy\n",
    "\n",
    "    theta_answer = minimize(ansatz_energy, theta_init).x\n",
    "    return ansatz_energy(theta_answer)"
   ]
  },
  {
   "cell_type": "code",
   "execution_count": 41,
   "metadata": {},
   "outputs": [
    {
     "data": {
      "text/plain": [
       "-1.1372701742978923"
      ]
     },
     "execution_count": 41,
     "metadata": {},
     "output_type": "execute_result"
    }
   ],
   "source": [
    "solve_vqe(h2_pauliop_hamil)"
   ]
  },
  {
   "cell_type": "code",
   "execution_count": null,
   "metadata": {},
   "outputs": [],
   "source": []
  }
 ],
 "metadata": {
  "kernelspec": {
   "display_name": "Python 3",
   "language": "python",
   "name": "python3"
  },
  "language_info": {
   "codemirror_mode": {
    "name": "ipython",
    "version": 3
   },
   "file_extension": ".py",
   "mimetype": "text/x-python",
   "name": "python",
   "nbconvert_exporter": "python",
   "pygments_lexer": "ipython3",
   "version": "3.6.5"
  }
 },
 "nbformat": 4,
 "nbformat_minor": 2
}
